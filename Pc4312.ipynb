{
 "cells": [
  {
   "cell_type": "markdown",
   "id": "0c4698dc",
   "metadata": {},
   "source": [
    "# Example of application of Bootstrap\n",
    "\n",
    "#### Cesar Fernandez-Ramirez for the Joint Physics Analysis Center\n",
    "\n",
    "\n",
    "This is a bootstrap example for the Joint Physics Analysis Center review <a href=\"https://arxiv.org/abs/2112.13436\">\"Novel Approaches in Hadron spectrocopy arXiv:2112.13436\"</a> based on a fit to the LHCb data for the $P_c(4312)$ region from <a href=\"https://doi.org/10.1103/PhysRevLett.122.222001\">\"Phys.Rev.Lett. 122 (2019) 22, 222001\"</a>. This example does not take into account the convolution of the model with the experimental resolution, which is a must to analyze the data and was done in <a href=\"https://doi.org/10.1103/PhysRevLett.123.092001\">\"Phys. Rev. Lett. 123 (2019) 092001\"</a>. The reason for such simplification is that the convolution with resolution is computationally very demanding."
   ]
  },
  {
   "cell_type": "code",
   "execution_count": 1,
   "id": "a672a57f",
   "metadata": {},
   "outputs": [],
   "source": [
    "import numpy as np\n",
    "import pandas as pd\n",
    "import matplotlib.pyplot as plt\n",
    "from iminuit import Minuit\n",
    "from iminuit.cost import LeastSquares\n",
    "\n",
    "jpac_blue   = \"#1F77B4\"; jpac_red    = \"#D61D28\";\n",
    "jpac_green  = \"#2CA02C\"; jpac_orange = \"#FF7F0E\";\n",
    "jpac_purple = \"#9467BD\"; jpac_brown  = \"#8C564B\";\n",
    "jpac_pink   = \"#E377C2\"; jpac_gold   = \"#BCBD22\";\n",
    "jpac_aqua   = \"#17BECF\"; jpac_grey   = \"#7F7F7F\";\n",
    "\n",
    "jpac_color = [jpac_blue, jpac_red, jpac_green, \n",
    "              jpac_orange, jpac_purple, jpac_brown,\n",
    "              jpac_pink, jpac_gold, jpac_aqua, jpac_grey,'black' ];\n",
    "\n",
    "dashes = 60*'_';\n",
    "\n",
    "epsilon = 0.000000001;\n",
    "gevfm = 5.068; # 1 GeV = 5.068 fm^{-1}\n",
    "Mlambda0, mK = 5.61960, 0.493677;\n",
    "Mjpsi, Mproton, MDbar0, MSigmap = 3.0969, 0.9382720813, 1.86483, 2.4529\n",
    "M11, M12, M21, M22 = Mjpsi, Mproton, MDbar0, MSigmap;\n",
    "ME1, ME2, ME3, ME4 = Mlambda0, mK, Mjpsi, Mproton\n",
    "nu1, nu2 = np.sqrt(M11*M12)/(M11+M12), np.sqrt(M21*M22)/(M21+M22);\n",
    "\n",
    "#   Data treatment\n",
    "def errores(dw_input,up_input):\n",
    "    npoints = len(dw_input)\n",
    "    points  = np.arange(npoints)\n",
    "    nxypoints = (2,npoints)\n",
    "    uncertainty = np.zeros(nxypoints)\n",
    "    for i in points:\n",
    "        uncertainty[0][i] = dw_input[i]; \n",
    "        uncertainty[1][i] = up_input[i];\n",
    "    return uncertainty\n",
    "\n",
    "#   Threshold and momenta in the real axis\n",
    "def sth(M1,M2):\n",
    "    return  (M1+M2)**2;\n",
    "def kfh_realaxis(s,M1,M2): \n",
    "    return -np.sqrt(sth(M1,M2)-s-epsilon*1j);\n",
    "def kallen(x,y,z):\n",
    "    return  x*x + y*y + z*z - 2.*(x*y + x*z + y*z);\n",
    "def phasespace(s):\n",
    "    p, q = np.sqrt(kallen(s,ME1**2,ME2**2)), np.sqrt(kallen(s,ME3**2,ME4**2));\n",
    "    return p*q/(4.*np.sqrt(s))\n",
    "\n",
    "#   Amplitude\n",
    "def T11_fh(s,m11,m12,m22):\n",
    "    t11, t22 = (m11 -  kfh_realaxis(s,M11,M12)),  (m22  - kfh_realaxis(s,M21,M22))\n",
    "    den = t11*t22 - m12**2;\n",
    "    return t22/den;\n",
    "\n",
    "#   Intensity\n",
    "def Intensity_fh(s,p0,p1,b0,b1,m11,m12,m22):\n",
    "    P1, B = p0+p1*s, b0 + b1*s;\n",
    "    T11 = T11_fh(s,m11,m12,m22);\n",
    "    F2  = np.absolute(P1*T11)**2\n",
    "    rho = phasespace(s)\n",
    "    return rho*(F2 + B)\n",
    "\n",
    "#   MINUIT LSQ function\n",
    "def LSQint_fh(p0,p1,b0,b1,m11,m12,m22):\n",
    "    return np.sum(((ydata-Intensity_fh(xdata,p0,p1,b0,b1,m11,m12,m22))**2)/(sigma_ydata**2))\n",
    "\n",
    "#  Pseudodata generation\n",
    "def pseudodataset(ydata,y_error):\n",
    "    pseudodata = [ np.random.normal(ydata[i],y_error[i]) for i in np.arange(y_error.size)]\n",
    "    return pseudodata"
   ]
  },
  {
   "cell_type": "code",
   "execution_count": 2,
   "id": "fcfa21b7",
   "metadata": {},
   "outputs": [],
   "source": [
    "###########################################################\n",
    "#   Uploading experimental information\n",
    "###########################################################\n",
    "\n",
    "file1 = \"dataLHCbweight-cut.txt\"; lhcbdata = np.loadtxt(file1);\n",
    "lhcbenergy = lhcbdata[:,0]/1000.; lhcbpoints = lhcbdata[:,1]; y_error = lhcbdata[:,2];\n",
    "lhcberrors = errores(y_error,y_error);"
   ]
  },
  {
   "cell_type": "markdown",
   "id": "e1236ab9",
   "metadata": {},
   "source": [
    "## Fit with errors from MINUIT"
   ]
  },
  {
   "cell_type": "code",
   "execution_count": 3,
   "id": "d7b81d54",
   "metadata": {},
   "outputs": [
    {
     "name": "stdout",
     "output_type": "stream",
     "text": [
      "chi2= 59.176165256635755\n",
      "chi2/dof= 0.9862694209439292\n",
      "____________________________________________________________\n",
      "____________________________________________________________\n",
      "┌───┬──────┬───────────┬───────────┬────────────┬────────────┬─────────┬─────────┬───────┐\n",
      "│   │ Name │   Value   │ Hesse Err │ Minos Err- │ Minos Err+ │ Limit-  │ Limit+  │ Fixed │\n",
      "├───┼──────┼───────────┼───────────┼────────────┼────────────┼─────────┼─────────┼───────┤\n",
      "│ 0 │ p0   │   424.3   │    2.5    │    -2.5    │    2.5     │         │         │       │\n",
      "│ 1 │ p1   │  -23.47   │   0.13    │   -0.13    │    0.13    │         │         │       │\n",
      "│ 2 │ b0   │    404    │    12     │    -12     │     12     │         │         │       │\n",
      "│ 3 │ b1   │   -15.0   │    0.6    │    -0.6    │    0.6     │         │         │       │\n",
      "│ 4 │ m11  │   2.11    │   0.19    │   -0.19    │    0.19    │         │         │       │\n",
      "│ 5 │ m12  │   1.08    │   0.10    │   -0.10    │    0.10    │         │         │       │\n",
      "│ 6 │ m22  │   0.41    │   0.09    │   -0.09    │    0.09    │         │         │       │\n",
      "└───┴──────┴───────────┴───────────┴────────────┴────────────┴─────────┴─────────┴───────┘\n",
      "┌─────┬───────────────────────────────────────────────────────────────────────┐\n",
      "│     │        p0        p1        b0        b1       m11       m12       m22 │\n",
      "├─────┼───────────────────────────────────────────────────────────────────────┤\n",
      "│  p0 │      6.03    -0.315      0.17    0.0277   0.00463    0.0199   0.00753 │\n",
      "│  p1 │    -0.315    0.0174  -0.00218  0.000814  -0.00267 -0.000339  0.000122 │\n",
      "│  b0 │      0.17  -0.00218       137     -7.37    -0.138   -0.0617   -0.0126 │\n",
      "│  b1 │    0.0277  0.000814     -7.37     0.417    0.0132   0.00183  -0.00241 │\n",
      "│ m11 │   0.00463  -0.00267    -0.138    0.0132    0.0374    0.0012 -0.000354 │\n",
      "│ m12 │    0.0199 -0.000339   -0.0617   0.00183    0.0012     0.011   0.00862 │\n",
      "│ m22 │   0.00753  0.000122   -0.0126  -0.00241 -0.000354   0.00862   0.00756 │\n",
      "└─────┴───────────────────────────────────────────────────────────────────────┘\n",
      "┌─────┬────────────────────────────────────────────────────────────────┐\n",
      "│     │       p0       p1       b0       b1      m11      m12      m22 │\n",
      "├─────┼────────────────────────────────────────────────────────────────┤\n",
      "│  p0 │        1   -0.973  0.00593   0.0174  0.00976   0.0774   0.0353 │\n",
      "│  p1 │   -0.973        1 -0.00141  0.00956   -0.105  -0.0245   0.0107 │\n",
      "│  b0 │  0.00593 -0.00141        1   -0.975  -0.0609  -0.0502  -0.0124 │\n",
      "│  b1 │   0.0174  0.00956   -0.975        1    0.106    0.027  -0.0428 │\n",
      "│ m11 │  0.00976   -0.105  -0.0609    0.106        1    0.059  -0.0211 │\n",
      "│ m12 │   0.0774  -0.0245  -0.0502    0.027    0.059        1    0.944 │\n",
      "│ m22 │   0.0353   0.0107  -0.0124  -0.0428  -0.0211    0.944        1 │\n",
      "└─────┴────────────────────────────────────────────────────────────────┘\n",
      "____________________________________________________________\n",
      "<ValueView p0=424.3231930018195 p1=-23.466085713698533 b0=403.7392978177506 b1=-14.966654108537803 m11=2.1093761366774757 m12=1.0782175863573542 m22=0.40735660031665855>\n"
     ]
    }
   ],
   "source": [
    "#####################################################\n",
    "#   MINUIT fit to FH amplitude without convolution\n",
    "#####################################################\n",
    "\n",
    "#FH best fit from Pc paper is used as starting input\n",
    "xdata, ydata, sigma_ydata =np.multiply(lhcbenergy,lhcbenergy), lhcbpoints, lhcberrors[0,:]\n",
    "\n",
    "b0input, b1input = 402.95, -15.00;\n",
    "p0input, p1input = 423.16, -23.53;\n",
    "m11input, m12input, m22input = 2.6, 0.85, 0.22; \n",
    "\n",
    "m_fh = Minuit(LSQint_fh, \n",
    "                     p0=p0input,p1=p1input,\n",
    "                     b0=b0input,b1=b1input,\n",
    "                     m11=m11input,m12=m12input,m22=m22input)\n",
    "m_fh.errordef = Minuit.LEAST_SQUARES\n",
    "m_fh.migrad(); m_fh.hesse(); m_fh.minos();\n",
    "print('chi2=',m_fh.fval); \n",
    "print('chi2/dof=',m_fh.fval/(len(ydata)-len(m_fh.values)))\n",
    "print(dashes)\n",
    "print(dashes);\n",
    "print(m_fh.params); print(m_fh.covariance); print(m_fh.covariance.correlation())\n",
    "print(dashes);\n",
    "\n",
    "p0fh, p1fh, b0fh, b1fh, m11fh, m12fh, m22fh = m_fh.values\n",
    "\n",
    "print(m_fh.values)\n"
   ]
  },
  {
   "cell_type": "code",
   "execution_count": 6,
   "id": "1f8a276d",
   "metadata": {
    "scrolled": true
   },
   "outputs": [
    {
     "data": {
      "image/png": "[encoded data removed]",
      "text/plain": [
       "<Figure size 360x360 with 1 Axes>"
      ]
     },
     "metadata": {
      "needs_background": "light"
     },
     "output_type": "display_data"
    }
   ],
   "source": [
    "#These are the values obtained from the fit\n",
    "#p0fh, p1fh = 424.3231930018195, -23.466085713698533 \n",
    "#b0fh, b1fh =403.7392978177506, -14.966654108537803 \n",
    "#m11fh, m12fh, m22fh =2.1093761366774757,1.0782175863573542,0.40735660031665855\n",
    "\n",
    "values = np.array([p0fh, p1fh, b0fh, b1fh, m11fh, m12fh, m22fh])\n",
    "ss  = np.multiply(lhcbenergy,lhcbenergy);\n",
    "lineshape_FH = np.array([ Intensity_fh(s,*values) for s in ss ]) \n",
    "fig = plt.figure(figsize=(5,5))\n",
    "plt.errorbar(lhcbenergy, lhcbpoints, yerr=sigma_ydata, fmt=\"o\", markersize=3,capsize=5., c=jpac_color[9], alpha=0.5,zorder=3,label='LHCb data')\n",
    "plt.plot(lhcbenergy,lineshape_FH,'-',lw=1,c=jpac_color[0], alpha=1,zorder=2,label='Fit')\n",
    "plt.legend(loc='upper left',ncol=1,frameon=True,fontsize=12)\n",
    "plt.show()\n"
   ]
  },
  {
   "cell_type": "markdown",
   "id": "f90b7f43",
   "metadata": {},
   "source": [
    "## Fit with errors from Bootstrap"
   ]
  },
  {
   "cell_type": "code",
   "execution_count": 17,
   "id": "6c426d49",
   "metadata": {},
   "outputs": [],
   "source": [
    "# Number of BS fits\n",
    "nbs = 10000; "
   ]
  },
  {
   "cell_type": "code",
   "execution_count": 19,
   "id": "f13b2307",
   "metadata": {
    "scrolled": true
   },
   "outputs": [
    {
     "name": "stdout",
     "output_type": "stream",
     "text": [
      "10.0 %\n",
      "20.0 %\n",
      "30.0 %\n",
      "40.0 %\n",
      "50.0 %\n",
      "60.0 %\n",
      "70.0 %\n",
      "80.0 %\n",
      "90.0 %\n",
      "100.0 %\n"
     ]
    }
   ],
   "source": [
    "p0fhinput, p1fhinput, b0fhinput, b1fhinput = p0fh, p1fh, b0fh, b1fh \n",
    "m11fhinput, m12fhinput, m22fhinput = m11fh, m12fh, m22fh\n",
    "\n",
    "xdata, ydata, sigma_ydata =np.multiply(lhcbenergy,lhcbenergy), lhcbpoints, lhcberrors[0,:]\n",
    "np.random.seed(1729);\n",
    "ypseudodata = []\n",
    "for i in range(nbs): ypseudodata.append(pseudodataset(ydata,y_error))\n",
    "\n",
    "p0fh_bs, p1fh_bs, b0fh_bs, b1fh_bs = [], [], [], [];\n",
    "m11fh_bs, m12fh_bs, m22fh_bs = [], [], [];\n",
    "chisq = [];\n",
    "for i in range(nbs):\n",
    "    ydata = ypseudodata[i]\n",
    "    if np.mod(i+1,np.trunc((nbs)/10))==0:\n",
    "        print((i+1)*100/nbs,\"%\")\n",
    "    m_bs = Minuit(LSQint_fh, \n",
    "                         p0=p0fhinput,p1=p1fhinput,\n",
    "                         b0=b0fhinput,b1=b1fhinput,\n",
    "                         m11=m11fhinput,m12=m12fhinput,m22=m22fhinput)    \n",
    "    m_bs.errordef = Minuit.LEAST_SQUARES\n",
    "    m_bs.migrad()\n",
    "    c1 = m_bs.fval\n",
    "    chisq.append(c1)\n",
    "    p0fh_bs.append(m_bs.values[0]); p1fh_bs.append(m_bs.values[1])\n",
    "    b0fh_bs.append(m_bs.values[2]); b1fh_bs.append(m_bs.values[3])\n",
    "    m11fh_bs.append(m_bs.values[4])\n",
    "    m12fh_bs.append(m_bs.values[5]) \n",
    "    m22fh_bs.append(m_bs.values[6])"
   ]
  },
  {
   "cell_type": "code",
   "execution_count": 20,
   "id": "5c5267c5",
   "metadata": {},
   "outputs": [
    {
     "name": "stdout",
     "output_type": "stream",
     "text": [
      "____________________________________________________________\n",
      "Fit parameters\n",
      "p0= 432.32997907529864  - 78.00769348640921  + 70.40124836839402\n",
      "p1= -24.30693805967093  - 4.117674630133163  + 4.484197575802458\n",
      "b0= 1299.1121206884025  - 1383.3364107807438  + 2088.9617692593683\n",
      "b1= -67.16766314203188  - 117.88919693820635  + 79.3590323916117\n",
      "m11= 10.237675862339291  - 8.9310154119804  + 6.363126043123021\n",
      "m12= 2.6482200347120846  - 2.329527615255179  + 1.2725295001485954\n",
      "m22= 0.7282266723011332  - 0.5245021221183017  + 0.25431074611114896\n",
      "____________________________________________________________\n",
      "covariance matrix\n",
      "               p0           p1            b0             b1           m11  \\\n",
      "p0   33787.757688 -1801.332382 -1.218893e+04     844.174028  -9656.243005   \n",
      "p1   -1801.332382    96.550641 -3.852718e+02      15.818686    521.908447   \n",
      "b0  -12188.931188  -385.271839  3.100307e+06 -178090.803766 -17115.403953   \n",
      "b1     844.174028    15.818686 -1.780908e+05   10244.557661    964.484198   \n",
      "m11  -9656.243005   521.908447 -1.711540e+04     964.484198   5488.423627   \n",
      "m12  -2148.202116   116.296515 -4.193928e+03     237.214552   1227.030696   \n",
      "m22   -484.565648    26.214358 -8.273910e+02      46.835903    272.392069   \n",
      "\n",
      "             m12         m22  \n",
      "p0  -2148.202116 -484.565648  \n",
      "p1    116.296515   26.214358  \n",
      "b0  -4193.928142 -827.390957  \n",
      "b1    237.214552   46.835903  \n",
      "m11  1227.030696  272.392069  \n",
      "m12   274.420805   60.926438  \n",
      "m22    60.926438   13.545347  \n",
      "____________________________________________________________\n",
      "correlation matrix\n",
      "           p0        p1        b0        b1       m11       m12       m22\n",
      "p0   1.000000 -0.997325 -0.037660  0.045374 -0.709095 -0.705484 -0.716272\n",
      "p1  -0.997325  1.000000 -0.022268  0.015905  0.716957  0.714464  0.724881\n",
      "b0  -0.037660 -0.022268  1.000000 -0.999292 -0.131208 -0.143784 -0.127677\n",
      "b1   0.045374  0.015905 -0.999292  1.000000  0.128625  0.141477  0.125730\n",
      "m11 -0.709095  0.716957 -0.131208  0.128625  1.000000  0.999823  0.999023\n",
      "m12 -0.705484  0.714464 -0.143784  0.141477  0.999823  1.000000  0.999315\n",
      "m22 -0.716272  0.724881 -0.127677  0.125730  0.999023  0.999315  1.000000\n",
      "____________________________________________________________\n"
     ]
    }
   ],
   "source": [
    "#Expected values of the parameters and uncertainties\n",
    "df_parameters = pd.DataFrame({\"p0\":p0fh_bs,\"p1\": p1fh_bs,\n",
    "                              \"b0\":b0fh_bs,\"b1\": b1fh_bs,\n",
    "                              \"m11\": m11fh_bs, \"m12\":m12fh_bs, \"m22\":m22fh_bs});\n",
    "p0fh_mean, p1fh_mean = np.mean(p0fh_bs), np.mean(p1fh_bs)\n",
    "b0fh_mean, b1fh_mean = np.mean(b0fh_bs), np.mean(b1fh_bs)\n",
    "m11fh_mean, m12fh_mean, m22fh_mean = np.mean(m11fh_bs), np.mean(m12fh_bs), np.mean(m22fh_bs)\n",
    "\n",
    "print(dashes); print('Fit parameters')\n",
    "print('p0=',p0fh_mean,' -',np.abs(p0fh_mean-np.quantile(p0fh_bs,0.16)),' +',np.abs(np.quantile(p0fh_bs,0.84)-p0fh_mean))\n",
    "print('p1=',p1fh_mean,' -',np.abs(p1fh_mean-np.quantile(p1fh_bs,0.16)),' +',np.abs(np.quantile(p1fh_bs,0.84)-p1fh_mean))\n",
    "print('b0=',b0fh_mean,' -',np.abs(b0fh_mean-np.quantile(b0fh_bs,0.16)),' +',np.abs(np.quantile(b0fh_bs,0.84)-b0fh_mean))\n",
    "print('b1=',b1fh_mean,' -',np.abs(b1fh_mean-np.quantile(b1fh_bs,0.16)),' +',np.abs(np.quantile(b1fh_bs,0.84)-b1fh_mean))\n",
    "print('m11=',m11fh_mean,' -',np.abs(m11fh_mean-np.quantile(m11fh_bs,0.16)),' +',np.abs(np.quantile(m11fh_bs,0.84)-m11fh_mean))\n",
    "print('m12=',m12fh_mean,' -',np.abs(m12fh_mean-np.quantile(m12fh_bs,0.16)),' +',np.abs(np.quantile(m12fh_bs,0.84)-m12fh_mean))\n",
    "print('m22=',m22fh_mean,' -',np.abs(m22fh_mean-np.quantile(m22fh_bs,0.16)),' +',np.abs(np.quantile(m22fh_bs,0.84)-m22fh_mean))\n",
    "\n",
    "print(dashes); print('covariance matrix')\n",
    "print(df_parameters.cov()); \n",
    "print(dashes); print('correlation matrix')\n",
    "print(df_parameters.corr())\n",
    "print(dashes)\n"
   ]
  },
  {
   "cell_type": "markdown",
   "id": "aca2a8c6",
   "metadata": {},
   "source": [
    "### Parameter histograms"
   ]
  },
  {
   "cell_type": "code",
   "execution_count": 21,
   "id": "52140146",
   "metadata": {
    "scrolled": false
   },
   "outputs": [
    {
     "data": {
      "image/png": "[encoded data removed]",
      "text/plain": [
       "<Figure size 432x288 with 1 Axes>"
      ]
     },
     "metadata": {
      "needs_background": "light"
     },
     "output_type": "display_data"
    },
    {
     "data": {
      "image/png": "[encoded data removed]",
      "text/plain": [
       "<Figure size 432x288 with 1 Axes>"
      ]
     },
     "metadata": {
      "needs_background": "light"
     },
     "output_type": "display_data"
    },
    {
     "data": {
      "image/png": "[encoded data removed]",
      "text/plain": [
       "<Figure size 432x288 with 1 Axes>"
      ]
     },
     "metadata": {
      "needs_background": "light"
     },
     "output_type": "display_data"
    },
    {
     "data": {
      "image/png": "[encoded data removed]",
      "text/plain": [
       "<Figure size 432x288 with 1 Axes>"
      ]
     },
     "metadata": {
      "needs_background": "light"
     },
     "output_type": "display_data"
    },
    {
     "data": {
      "image/png": "[encoded data removed]",
      "text/plain": [
       "<Figure size 432x288 with 1 Axes>"
      ]
     },
     "metadata": {
      "needs_background": "light"
     },
     "output_type": "display_data"
    },
    {
     "data": {
      "image/png": "[encoded data removed]",
      "text/plain": [
       "<Figure size 432x288 with 1 Axes>"
      ]
     },
     "metadata": {
      "needs_background": "light"
     },
     "output_type": "display_data"
    },
    {
     "data": {
      "image/png": "[encoded data removed]",
      "text/plain": [
       "<Figure size 432x288 with 1 Axes>"
      ]
     },
     "metadata": {
      "needs_background": "light"
     },
     "output_type": "display_data"
    }
   ],
   "source": [
    "bins1, limits, i = 100, [(50,900),(-50,5),(-1250,6000),(-400,100),(-1,12),(0.,6),(-1,2)], 0;\n",
    "for name in [\"p0\",\"p1\",\"b0\",\"b1\",\"m11\",\"m12\",\"m22\"]:\n",
    "    plt.xlabel(name); plt.xlim(limits[i])\n",
    "    plt.hist(df_parameters[name], bins=bins1,range=limits[i],density=True,color=jpac_orange,alpha=0.5,label='Bootstrap')\n",
    "    i+=1; plt.show()\n"
   ]
  },
  {
   "cell_type": "code",
   "execution_count": null,
   "id": "432b7c71",
   "metadata": {},
   "outputs": [],
   "source": []
  }
 ],
 "metadata": {
  "kernelspec": {
   "display_name": "Python 3 (ipykernel)",
   "language": "python",
   "name": "python3"
  },
  "language_info": {
   "codemirror_mode": {
    "name": "ipython",
    "version": 3
   },
   "file_extension": ".py",
   "mimetype": "text/x-python",
   "name": "python",
   "nbconvert_exporter": "python",
   "pygments_lexer": "ipython3",
   "version": "3.8.11"
  }
 },
 "nbformat": 4,
 "nbformat_minor": 5
}
